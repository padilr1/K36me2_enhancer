{
 "cells": [
  {
   "cell_type": "markdown",
   "id": "19159f8c",
   "metadata": {},
   "source": [
    "# Assay for Transposase-Accessible Chromatin using sequencing (ATAC-Seq)"
   ]
  },
  {
   "cell_type": "markdown",
   "id": "f6ffdcf9",
   "metadata": {},
   "source": [
    "- The method can help identify promoter regions and potential enhancers and silencers.\n",
    "- A promoter is the DNA region close to the transcription start site (TSS). It contains binding sites for transcription factors that will recruit the RNA polymerase. \n",
    "- An enhancer is a DNA region that can be located up to 1 Mb downstream or upstream of the promoter. When transcription factors bind an enhancer and contact a promoter region, the transcription of the gene is increased.\n",
    "- Good ATAC-Seq data would have accessible regions both within and outside of TSS, for example, at some CTCF binding sites."
   ]
  },
  {
   "cell_type": "markdown",
   "id": "95160d7d",
   "metadata": {},
   "source": [
    "## CTCF binding sites"
   ]
  },
  {
   "cell_type": "markdown",
   "id": "34559cf9",
   "metadata": {},
   "source": [
    "- a DNA-binding protein implicated in 3D structure\n",
    "- CTCF is known to bind to thousands of sites in the genome and thus it can be used as a positive control for assessing if the ATAC-Seq experiment is good quality.\n"
   ]
  },
  {
   "cell_type": "code",
   "execution_count": null,
   "id": "901ea272",
   "metadata": {},
   "outputs": [],
   "source": []
  }
 ],
 "metadata": {
  "kernelspec": {
   "display_name": "Python 3",
   "language": "python",
   "name": "python3"
  },
  "language_info": {
   "codemirror_mode": {
    "name": "ipython",
    "version": 3
   },
   "file_extension": ".py",
   "mimetype": "text/x-python",
   "name": "python",
   "nbconvert_exporter": "python",
   "pygments_lexer": "ipython3",
   "version": "3.8.8"
  }
 },
 "nbformat": 4,
 "nbformat_minor": 5
}
