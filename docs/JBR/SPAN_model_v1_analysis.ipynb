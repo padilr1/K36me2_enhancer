{
 "cells": [
  {
   "cell_type": "code",
   "execution_count": 1,
   "id": "40851d59",
   "metadata": {},
   "outputs": [],
   "source": [
    "import pandas as pd\n",
    "import os"
   ]
  },
  {
   "cell_type": "code",
   "execution_count": 2,
   "id": "d0a60869",
   "metadata": {},
   "outputs": [
    {
     "data": {
      "text/plain": [
       "['.Rhistory',\n",
       " 'K36me2peaks_SPAN_v1.tsv',\n",
       " 'screenshots',\n",
       " '.DS_Store',\n",
       " 'index.Rmd',\n",
       " 'semi_supervised_learning_K36me2_enhancer_peaks.xml',\n",
       " '_site.yml',\n",
       " 'docs',\n",
       " 'semi_supervised_learning_K36me2_enhancer_peaks.yaml',\n",
       " 'README.md',\n",
       " 'SPAN_model_v1_analysis.ipynb',\n",
       " '.gitignore',\n",
       " 'TKO_K36me2_semi_supervised.bed',\n",
       " '.ipynb_checkpoints',\n",
       " 'TKO_H3K36me2_1_sorted_TKO_Input_1_sorted_200#d4734_1.0E-9_2.peak.0E-9_2.peak',\n",
       " '.git',\n",
       " '.Rproj.user',\n",
       " 'K36me2_enhancer.Rproj',\n",
       " 'extras']"
      ]
     },
     "execution_count": 2,
     "metadata": {},
     "output_type": "execute_result"
    }
   ],
   "source": [
    "os.listdir()"
   ]
  },
  {
   "cell_type": "code",
   "execution_count": 6,
   "id": "fa29e384",
   "metadata": {},
   "outputs": [],
   "source": [
    "df = pd.read_csv('K36me2peaks_SPAN_v1.tsv',sep='\\t')"
   ]
  },
  {
   "cell_type": "code",
   "execution_count": 7,
   "id": "abb41665",
   "metadata": {},
   "outputs": [
    {
     "data": {
      "text/plain": [
       "Index(['#', 'Title', 'Count', 'Total length', 'Genome coverage', 'Min length',\n",
       "       'Max length', 'Mean length', 'Median length', 'Total error',\n",
       "       'No peaks error', 'Peaks error', 'Peak start error', 'Peak end error',\n",
       "       'FDR', 'GAP', 'Signal mean', 'Noise mean', 'Signal to noise', 'Source',\n",
       "       'File size'],\n",
       "      dtype='object')"
      ]
     },
     "execution_count": 7,
     "metadata": {},
     "output_type": "execute_result"
    }
   ],
   "source": [
    "df.columns"
   ]
  },
  {
   "cell_type": "code",
   "execution_count": 8,
   "id": "8e2e863a",
   "metadata": {},
   "outputs": [
    {
     "data": {
      "text/html": [
       "<div>\n",
       "<style scoped>\n",
       "    .dataframe tbody tr th:only-of-type {\n",
       "        vertical-align: middle;\n",
       "    }\n",
       "\n",
       "    .dataframe tbody tr th {\n",
       "        vertical-align: top;\n",
       "    }\n",
       "\n",
       "    .dataframe thead th {\n",
       "        text-align: right;\n",
       "    }\n",
       "</style>\n",
       "<table border=\"1\" class=\"dataframe\">\n",
       "  <thead>\n",
       "    <tr style=\"text-align: right;\">\n",
       "      <th></th>\n",
       "      <th>#</th>\n",
       "      <th>Title</th>\n",
       "      <th>Count</th>\n",
       "      <th>Total length</th>\n",
       "      <th>Genome coverage</th>\n",
       "      <th>Min length</th>\n",
       "      <th>Max length</th>\n",
       "      <th>Mean length</th>\n",
       "      <th>Median length</th>\n",
       "      <th>Total error</th>\n",
       "      <th>...</th>\n",
       "      <th>Peaks error</th>\n",
       "      <th>Peak start error</th>\n",
       "      <th>Peak end error</th>\n",
       "      <th>FDR</th>\n",
       "      <th>GAP</th>\n",
       "      <th>Signal mean</th>\n",
       "      <th>Noise mean</th>\n",
       "      <th>Signal to noise</th>\n",
       "      <th>Source</th>\n",
       "      <th>File size</th>\n",
       "    </tr>\n",
       "  </thead>\n",
       "  <tbody>\n",
       "    <tr>\n",
       "      <th>0</th>\n",
       "      <td>1</td>\n",
       "      <td>TKO_H3K36me2_1_sorted_TKO_Input_1_sorted_200#d...</td>\n",
       "      <td>39068</td>\n",
       "      <td>84059200</td>\n",
       "      <td>0.030781</td>\n",
       "      <td>200</td>\n",
       "      <td>133000</td>\n",
       "      <td>2151</td>\n",
       "      <td>800</td>\n",
       "      <td>27% (29/107)</td>\n",
       "      <td>...</td>\n",
       "      <td>0% (0/16)</td>\n",
       "      <td>47% (18/38)</td>\n",
       "      <td>29% (11/38)</td>\n",
       "      <td>1.000000e-09</td>\n",
       "      <td>2</td>\n",
       "      <td>13.500735</td>\n",
       "      <td>0.425374</td>\n",
       "      <td>31.738489</td>\n",
       "      <td>/Users/padilr1/Documents/my_remote_mount_2/chi...</td>\n",
       "      <td>52 mb</td>\n",
       "    </tr>\n",
       "  </tbody>\n",
       "</table>\n",
       "<p>1 rows × 21 columns</p>\n",
       "</div>"
      ],
      "text/plain": [
       "   #                                              Title  Count  Total length  \\\n",
       "0  1  TKO_H3K36me2_1_sorted_TKO_Input_1_sorted_200#d...  39068      84059200   \n",
       "\n",
       "   Genome coverage  Min length  Max length  Mean length  Median length  \\\n",
       "0         0.030781         200      133000         2151            800   \n",
       "\n",
       "    Total error  ... Peaks error Peak start error Peak end error  \\\n",
       "0  27% (29/107)  ...   0% (0/16)      47% (18/38)    29% (11/38)   \n",
       "\n",
       "            FDR  GAP  Signal mean  Noise mean  Signal to noise  \\\n",
       "0  1.000000e-09    2    13.500735    0.425374        31.738489   \n",
       "\n",
       "                                              Source File size  \n",
       "0  /Users/padilr1/Documents/my_remote_mount_2/chi...     52 mb  \n",
       "\n",
       "[1 rows x 21 columns]"
      ]
     },
     "execution_count": 8,
     "metadata": {},
     "output_type": "execute_result"
    }
   ],
   "source": [
    "df"
   ]
  },
  {
   "cell_type": "code",
   "execution_count": null,
   "id": "1dafc924",
   "metadata": {},
   "outputs": [],
   "source": []
  }
 ],
 "metadata": {
  "kernelspec": {
   "display_name": "Python 3",
   "language": "python",
   "name": "python3"
  },
  "language_info": {
   "codemirror_mode": {
    "name": "ipython",
    "version": 3
   },
   "file_extension": ".py",
   "mimetype": "text/x-python",
   "name": "python",
   "nbconvert_exporter": "python",
   "pygments_lexer": "ipython3",
   "version": "3.8.8"
  }
 },
 "nbformat": 4,
 "nbformat_minor": 5
}
