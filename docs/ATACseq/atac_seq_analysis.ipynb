{
 "cells": [
  {
   "cell_type": "code",
   "execution_count": 2,
   "id": "07b67193",
   "metadata": {},
   "outputs": [],
   "source": [
    "import pandas as pd\n",
    "import os"
   ]
  },
  {
   "cell_type": "code",
   "execution_count": 9,
   "id": "463cbd5a",
   "metadata": {
    "scrolled": true
   },
   "outputs": [
    {
     "data": {
      "text/plain": [
       "['SETD2KO_ATAC_peaks.bed',\n",
       " 'atac_seq_analysis.ipynb',\n",
       " 'SETD2KO_ATAC.csv',\n",
       " 'NSD12DKO_ATAC.csv',\n",
       " '.ipynb_checkpoints',\n",
       " 'PA_ATAC.csv',\n",
       " 'NSD12DKO_ATAC_peaks.bed',\n",
       " 'K36M_ATAC.csv',\n",
       " 'H33K36M_ATAC_peaks.bed',\n",
       " 'PA_ATAC_peaks.bed']"
      ]
     },
     "execution_count": 9,
     "metadata": {},
     "output_type": "execute_result"
    }
   ],
   "source": [
    "os.listdir()"
   ]
  },
  {
   "cell_type": "code",
   "execution_count": 115,
   "id": "71fa86d4",
   "metadata": {},
   "outputs": [],
   "source": [
    "df = pd.read_csv(\"K36M_ATAC.csv\")"
   ]
  },
  {
   "cell_type": "code",
   "execution_count": 116,
   "id": "edfc0e08",
   "metadata": {},
   "outputs": [],
   "source": [
    "df_intron = df.loc[df['annotation'].str.contains('Intron')]"
   ]
  },
  {
   "cell_type": "code",
   "execution_count": 118,
   "id": "e4d59f54",
   "metadata": {},
   "outputs": [
    {
     "data": {
      "text/plain": [
       "4499"
      ]
     },
     "execution_count": 118,
     "metadata": {},
     "output_type": "execute_result"
    }
   ],
   "source": [
    "len(df_intron)"
   ]
  },
  {
   "cell_type": "code",
   "execution_count": 100,
   "id": "422311a1",
   "metadata": {},
   "outputs": [],
   "source": [
    "def annotate(x):\n",
    "    with open(x,'r') as file:\n",
    "        df = pd.read_csv(file)\n",
    "        df_promoter = df.loc[df['annotation']=='Promoter']\n",
    "        df_intergenic = df.loc[df['annotation']=='Distal Intergenic']\n",
    "        df_intron = df.loc[df['annotation'].str.contains('Intron')]\n",
    "        df_promoter = df_promoter.loc[:,['seqnames','start','end','V4','V5','V6']]\n",
    "        df_intergenic = df_intergenic.loc[:,['seqnames','start','end','V4','V5','V6']]\n",
    "        df_intron = df_intron.loc[:,['seqnames','start','end','V4','V5','V6']]\n",
    "        return([df_promoter,df_intergenic,df_intron])"
   ]
  },
  {
   "cell_type": "code",
   "execution_count": 101,
   "id": "f288a364",
   "metadata": {},
   "outputs": [],
   "source": [
    "df = annotate(\"SETD2KO_ATAC.csv\")"
   ]
  },
  {
   "cell_type": "code",
   "execution_count": 109,
   "id": "3c44bf50",
   "metadata": {},
   "outputs": [],
   "source": [
    "df_promoter = df[0]"
   ]
  },
  {
   "cell_type": "code",
   "execution_count": 110,
   "id": "3969806b",
   "metadata": {},
   "outputs": [],
   "source": [
    "df_intergenic = df[1]"
   ]
  },
  {
   "cell_type": "code",
   "execution_count": 111,
   "id": "b984846d",
   "metadata": {},
   "outputs": [],
   "source": [
    "df_intron = df[2]"
   ]
  },
  {
   "cell_type": "code",
   "execution_count": 112,
   "id": "79eba452",
   "metadata": {},
   "outputs": [
    {
     "data": {
      "text/plain": [
       "8793"
      ]
     },
     "execution_count": 112,
     "metadata": {},
     "output_type": "execute_result"
    }
   ],
   "source": [
    "len(df_intron)"
   ]
  },
  {
   "cell_type": "code",
   "execution_count": 114,
   "id": "d02cdba3",
   "metadata": {},
   "outputs": [],
   "source": [
    "import argparse"
   ]
  },
  {
   "cell_type": "code",
   "execution_count": null,
   "id": "49e879a9",
   "metadata": {},
   "outputs": [],
   "source": []
  }
 ],
 "metadata": {
  "kernelspec": {
   "display_name": "Python 3",
   "language": "python",
   "name": "python3"
  },
  "language_info": {
   "codemirror_mode": {
    "name": "ipython",
    "version": 3
   },
   "file_extension": ".py",
   "mimetype": "text/x-python",
   "name": "python",
   "nbconvert_exporter": "python",
   "pygments_lexer": "ipython3",
   "version": "3.8.8"
  }
 },
 "nbformat": 4,
 "nbformat_minor": 5
}
