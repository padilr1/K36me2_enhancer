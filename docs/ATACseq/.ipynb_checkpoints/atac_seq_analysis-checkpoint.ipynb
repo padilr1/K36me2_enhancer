{
 "cells": [
  {
   "cell_type": "code",
   "execution_count": 1,
   "id": "07b67193",
   "metadata": {},
   "outputs": [],
   "source": [
    "import pandas as pd\n",
    "import os"
   ]
  },
  {
   "cell_type": "code",
   "execution_count": 2,
   "id": "463cbd5a",
   "metadata": {
    "scrolled": true
   },
   "outputs": [
    {
     "data": {
      "text/plain": [
       "['SETD2KO_ATAC_peaks.bed',\n",
       " '.DS_Store',\n",
       " 'SETD2_ATAC.intron.bed',\n",
       " 'PA_ATAC.promoter.bed',\n",
       " 'K36M_ATAC.intron.bed',\n",
       " 'PA_ATAC.intron.bed',\n",
       " 'anno_reg.py',\n",
       " 'PA_ATAC.intergenic.bed',\n",
       " 'K36M_ATAC.intergenic.bed',\n",
       " 'SETD2_ATAC.promoter.bed',\n",
       " 'atacseq.sh',\n",
       " 'atac_seq_analysis.ipynb',\n",
       " 'NSD12DKO_ATAC.intergenic.bed',\n",
       " 'NSD12DKO_ATAC.intron.bed',\n",
       " 'SETD2KO_ATAC.csv',\n",
       " 'NSD12DKO_ATAC.csv',\n",
       " 'K36M_ATAC.promoter.bed',\n",
       " '.ipynb_checkpoints',\n",
       " 'PA_ATAC.csv',\n",
       " 'NSD12DKO_ATAC_peaks.bed',\n",
       " 'NSD12DKO_ATAC.promoter.bed',\n",
       " 'K36M_ATAC.csv',\n",
       " 'H33K36M_ATAC_peaks.bed',\n",
       " 'PA_ATAC_peaks.bed',\n",
       " 'SETD2_ATAC.intergenic.bed']"
      ]
     },
     "execution_count": 2,
     "metadata": {},
     "output_type": "execute_result"
    }
   ],
   "source": [
    "os.listdir()"
   ]
  },
  {
   "cell_type": "code",
   "execution_count": 115,
   "id": "71fa86d4",
   "metadata": {},
   "outputs": [],
   "source": [
    "df = pd.read_csv(\"K36M_ATAC.csv\")"
   ]
  },
  {
   "cell_type": "code",
   "execution_count": 116,
   "id": "edfc0e08",
   "metadata": {},
   "outputs": [],
   "source": [
    "df_intron = df.loc[df['annotation'].str.contains('Intron')]"
   ]
  },
  {
   "cell_type": "code",
   "execution_count": 118,
   "id": "e4d59f54",
   "metadata": {},
   "outputs": [
    {
     "data": {
      "text/plain": [
       "4499"
      ]
     },
     "execution_count": 118,
     "metadata": {},
     "output_type": "execute_result"
    }
   ],
   "source": [
    "len(df_intron)"
   ]
  },
  {
   "cell_type": "code",
   "execution_count": 3,
   "id": "422311a1",
   "metadata": {},
   "outputs": [],
   "source": [
    "def annotate(x):\n",
    "    with open(x,'r') as file:\n",
    "        df = pd.read_csv(file)\n",
    "        df_promoter = df.loc[df['annotation']=='Promoter']\n",
    "        df_intergenic = df.loc[df['annotation']=='Distal Intergenic']\n",
    "        df_intron = df.loc[df['annotation'].str.contains('Intron')]\n",
    "        df_promoter = df_promoter.loc[:,['seqnames','start','end','V4','V5','V6']]\n",
    "        df_intergenic = df_intergenic.loc[:,['seqnames','start','end','V4','V5','V6']]\n",
    "        df_intron = df_intron.loc[:,['seqnames','start','end','V4','V5','V6']]\n",
    "        return([df_promoter,df_intergenic,df_intron])"
   ]
  },
  {
   "cell_type": "code",
   "execution_count": 101,
   "id": "f288a364",
   "metadata": {},
   "outputs": [],
   "source": [
    "df = annotate(\"SETD2KO_ATAC.csv\")"
   ]
  },
  {
   "cell_type": "code",
   "execution_count": 109,
   "id": "3c44bf50",
   "metadata": {},
   "outputs": [],
   "source": [
    "df_promoter = df[0]"
   ]
  },
  {
   "cell_type": "code",
   "execution_count": 110,
   "id": "3969806b",
   "metadata": {},
   "outputs": [],
   "source": [
    "df_intergenic = df[1]"
   ]
  },
  {
   "cell_type": "code",
   "execution_count": 111,
   "id": "b984846d",
   "metadata": {},
   "outputs": [],
   "source": [
    "df_intron = df[2]"
   ]
  },
  {
   "cell_type": "code",
   "execution_count": 112,
   "id": "79eba452",
   "metadata": {},
   "outputs": [
    {
     "data": {
      "text/plain": [
       "8793"
      ]
     },
     "execution_count": 112,
     "metadata": {},
     "output_type": "execute_result"
    }
   ],
   "source": [
    "len(df_intron)"
   ]
  },
  {
   "cell_type": "code",
   "execution_count": 114,
   "id": "d02cdba3",
   "metadata": {},
   "outputs": [],
   "source": [
    "import argparse"
   ]
  },
  {
   "cell_type": "code",
   "execution_count": 4,
   "id": "49e879a9",
   "metadata": {},
   "outputs": [],
   "source": [
    "def annotate(x):\n",
    "    with open(x,'r') as file:\n",
    "        df = pd.read_csv(file)\n",
    "        df_promoter = df.loc[df['annotation']=='Promoter']\n",
    "        df_promoter = df_promoter.loc[:,['seqnames','start','end','V4','V5','V6']]\n",
    "        return(df_promoter)"
   ]
  },
  {
   "cell_type": "code",
   "execution_count": 5,
   "id": "f3eb545f",
   "metadata": {},
   "outputs": [],
   "source": [
    "bedfiles = ['K36M_ATAC.csv','PA_ATAC.csv']"
   ]
  },
  {
   "cell_type": "code",
   "execution_count": 6,
   "id": "df0ff405",
   "metadata": {},
   "outputs": [],
   "source": [
    "for i in range(len(bedfiles)):\n",
    "    bedfiles[i] = annotate(bedfiles[i])"
   ]
  },
  {
   "cell_type": "code",
   "execution_count": 9,
   "id": "73f3eef3",
   "metadata": {},
   "outputs": [
    {
     "data": {
      "text/html": [
       "<div>\n",
       "<style scoped>\n",
       "    .dataframe tbody tr th:only-of-type {\n",
       "        vertical-align: middle;\n",
       "    }\n",
       "\n",
       "    .dataframe tbody tr th {\n",
       "        vertical-align: top;\n",
       "    }\n",
       "\n",
       "    .dataframe thead th {\n",
       "        text-align: right;\n",
       "    }\n",
       "</style>\n",
       "<table border=\"1\" class=\"dataframe\">\n",
       "  <thead>\n",
       "    <tr style=\"text-align: right;\">\n",
       "      <th></th>\n",
       "      <th>seqnames</th>\n",
       "      <th>start</th>\n",
       "      <th>end</th>\n",
       "      <th>V4</th>\n",
       "      <th>V5</th>\n",
       "      <th>V6</th>\n",
       "    </tr>\n",
       "  </thead>\n",
       "  <tbody>\n",
       "    <tr>\n",
       "      <th>1</th>\n",
       "      <td>chr1</td>\n",
       "      <td>4785440</td>\n",
       "      <td>4785809</td>\n",
       "      <td>H33K36M_ATAC_peak_2</td>\n",
       "      <td>43</td>\n",
       "      <td>.</td>\n",
       "    </tr>\n",
       "    <tr>\n",
       "      <th>2</th>\n",
       "      <td>chr1</td>\n",
       "      <td>4857408</td>\n",
       "      <td>4857857</td>\n",
       "      <td>H33K36M_ATAC_peak_3</td>\n",
       "      <td>235</td>\n",
       "      <td>.</td>\n",
       "    </tr>\n",
       "    <tr>\n",
       "      <th>3</th>\n",
       "      <td>chr1</td>\n",
       "      <td>5017956</td>\n",
       "      <td>5018155</td>\n",
       "      <td>H33K36M_ATAC_peak_4</td>\n",
       "      <td>67</td>\n",
       "      <td>.</td>\n",
       "    </tr>\n",
       "    <tr>\n",
       "      <th>5</th>\n",
       "      <td>chr1</td>\n",
       "      <td>5070277</td>\n",
       "      <td>5070531</td>\n",
       "      <td>H33K36M_ATAC_peak_6</td>\n",
       "      <td>103</td>\n",
       "      <td>.</td>\n",
       "    </tr>\n",
       "    <tr>\n",
       "      <th>6</th>\n",
       "      <td>chr1</td>\n",
       "      <td>5083007</td>\n",
       "      <td>5083354</td>\n",
       "      <td>H33K36M_ATAC_peak_7</td>\n",
       "      <td>119</td>\n",
       "      <td>.</td>\n",
       "    </tr>\n",
       "    <tr>\n",
       "      <th>...</th>\n",
       "      <td>...</td>\n",
       "      <td>...</td>\n",
       "      <td>...</td>\n",
       "      <td>...</td>\n",
       "      <td>...</td>\n",
       "      <td>...</td>\n",
       "    </tr>\n",
       "    <tr>\n",
       "      <th>17700</th>\n",
       "      <td>chrX</td>\n",
       "      <td>168673388</td>\n",
       "      <td>168673636</td>\n",
       "      <td>H33K36M_ATAC_peak_17701</td>\n",
       "      <td>148</td>\n",
       "      <td>.</td>\n",
       "    </tr>\n",
       "    <tr>\n",
       "      <th>17701</th>\n",
       "      <td>chrX</td>\n",
       "      <td>168673785</td>\n",
       "      <td>168674118</td>\n",
       "      <td>H33K36M_ATAC_peak_17702</td>\n",
       "      <td>111</td>\n",
       "      <td>.</td>\n",
       "    </tr>\n",
       "    <tr>\n",
       "      <th>17706</th>\n",
       "      <td>chrX</td>\n",
       "      <td>169320172</td>\n",
       "      <td>169320686</td>\n",
       "      <td>H33K36M_ATAC_peak_17707</td>\n",
       "      <td>208</td>\n",
       "      <td>.</td>\n",
       "    </tr>\n",
       "    <tr>\n",
       "      <th>17709</th>\n",
       "      <td>chrX</td>\n",
       "      <td>169879501</td>\n",
       "      <td>169879700</td>\n",
       "      <td>H33K36M_ATAC_peak_17710</td>\n",
       "      <td>80</td>\n",
       "      <td>.</td>\n",
       "    </tr>\n",
       "    <tr>\n",
       "      <th>17711</th>\n",
       "      <td>chrX</td>\n",
       "      <td>169974944</td>\n",
       "      <td>169975151</td>\n",
       "      <td>H33K36M_ATAC_peak_17712</td>\n",
       "      <td>65</td>\n",
       "      <td>.</td>\n",
       "    </tr>\n",
       "  </tbody>\n",
       "</table>\n",
       "<p>8086 rows × 6 columns</p>\n",
       "</div>"
      ],
      "text/plain": [
       "      seqnames      start        end                       V4   V5 V6\n",
       "1         chr1    4785440    4785809      H33K36M_ATAC_peak_2   43  .\n",
       "2         chr1    4857408    4857857      H33K36M_ATAC_peak_3  235  .\n",
       "3         chr1    5017956    5018155      H33K36M_ATAC_peak_4   67  .\n",
       "5         chr1    5070277    5070531      H33K36M_ATAC_peak_6  103  .\n",
       "6         chr1    5083007    5083354      H33K36M_ATAC_peak_7  119  .\n",
       "...        ...        ...        ...                      ...  ... ..\n",
       "17700     chrX  168673388  168673636  H33K36M_ATAC_peak_17701  148  .\n",
       "17701     chrX  168673785  168674118  H33K36M_ATAC_peak_17702  111  .\n",
       "17706     chrX  169320172  169320686  H33K36M_ATAC_peak_17707  208  .\n",
       "17709     chrX  169879501  169879700  H33K36M_ATAC_peak_17710   80  .\n",
       "17711     chrX  169974944  169975151  H33K36M_ATAC_peak_17712   65  .\n",
       "\n",
       "[8086 rows x 6 columns]"
      ]
     },
     "execution_count": 9,
     "metadata": {},
     "output_type": "execute_result"
    }
   ],
   "source": [
    "bedfiles[0]"
   ]
  },
  {
   "cell_type": "code",
   "execution_count": 10,
   "id": "e493ebd0",
   "metadata": {},
   "outputs": [
    {
     "data": {
      "text/html": [
       "<div>\n",
       "<style scoped>\n",
       "    .dataframe tbody tr th:only-of-type {\n",
       "        vertical-align: middle;\n",
       "    }\n",
       "\n",
       "    .dataframe tbody tr th {\n",
       "        vertical-align: top;\n",
       "    }\n",
       "\n",
       "    .dataframe thead th {\n",
       "        text-align: right;\n",
       "    }\n",
       "</style>\n",
       "<table border=\"1\" class=\"dataframe\">\n",
       "  <thead>\n",
       "    <tr style=\"text-align: right;\">\n",
       "      <th></th>\n",
       "      <th>seqnames</th>\n",
       "      <th>start</th>\n",
       "      <th>end</th>\n",
       "      <th>V4</th>\n",
       "      <th>V5</th>\n",
       "      <th>V6</th>\n",
       "    </tr>\n",
       "  </thead>\n",
       "  <tbody>\n",
       "    <tr>\n",
       "      <th>0</th>\n",
       "      <td>chr1</td>\n",
       "      <td>4785592</td>\n",
       "      <td>4785957</td>\n",
       "      <td>PA_ATAC_peak_1</td>\n",
       "      <td>114</td>\n",
       "      <td>.</td>\n",
       "    </tr>\n",
       "    <tr>\n",
       "      <th>1</th>\n",
       "      <td>chr1</td>\n",
       "      <td>4807580</td>\n",
       "      <td>4808172</td>\n",
       "      <td>PA_ATAC_peak_2</td>\n",
       "      <td>106</td>\n",
       "      <td>.</td>\n",
       "    </tr>\n",
       "    <tr>\n",
       "      <th>2</th>\n",
       "      <td>chr1</td>\n",
       "      <td>4857390</td>\n",
       "      <td>4857913</td>\n",
       "      <td>PA_ATAC_peak_3</td>\n",
       "      <td>596</td>\n",
       "      <td>.</td>\n",
       "    </tr>\n",
       "    <tr>\n",
       "      <th>3</th>\n",
       "      <td>chr1</td>\n",
       "      <td>5019338</td>\n",
       "      <td>5019580</td>\n",
       "      <td>PA_ATAC_peak_4</td>\n",
       "      <td>80</td>\n",
       "      <td>.</td>\n",
       "    </tr>\n",
       "    <tr>\n",
       "      <th>5</th>\n",
       "      <td>chr1</td>\n",
       "      <td>5070277</td>\n",
       "      <td>5070587</td>\n",
       "      <td>PA_ATAC_peak_6</td>\n",
       "      <td>206</td>\n",
       "      <td>.</td>\n",
       "    </tr>\n",
       "    <tr>\n",
       "      <th>...</th>\n",
       "      <td>...</td>\n",
       "      <td>...</td>\n",
       "      <td>...</td>\n",
       "      <td>...</td>\n",
       "      <td>...</td>\n",
       "      <td>...</td>\n",
       "    </tr>\n",
       "    <tr>\n",
       "      <th>26518</th>\n",
       "      <td>chrX</td>\n",
       "      <td>168672467</td>\n",
       "      <td>168672778</td>\n",
       "      <td>PA_ATAC_peak_26519</td>\n",
       "      <td>125</td>\n",
       "      <td>.</td>\n",
       "    </tr>\n",
       "    <tr>\n",
       "      <th>26519</th>\n",
       "      <td>chrX</td>\n",
       "      <td>168673404</td>\n",
       "      <td>168673685</td>\n",
       "      <td>PA_ATAC_peak_26520</td>\n",
       "      <td>107</td>\n",
       "      <td>.</td>\n",
       "    </tr>\n",
       "    <tr>\n",
       "      <th>26520</th>\n",
       "      <td>chrX</td>\n",
       "      <td>168673765</td>\n",
       "      <td>168674170</td>\n",
       "      <td>PA_ATAC_peak_26521</td>\n",
       "      <td>107</td>\n",
       "      <td>.</td>\n",
       "    </tr>\n",
       "    <tr>\n",
       "      <th>26523</th>\n",
       "      <td>chrX</td>\n",
       "      <td>169112624</td>\n",
       "      <td>169112962</td>\n",
       "      <td>PA_ATAC_peak_26524</td>\n",
       "      <td>58</td>\n",
       "      <td>.</td>\n",
       "    </tr>\n",
       "    <tr>\n",
       "      <th>26526</th>\n",
       "      <td>chrX</td>\n",
       "      <td>169320297</td>\n",
       "      <td>169320616</td>\n",
       "      <td>PA_ATAC_peak_26527</td>\n",
       "      <td>173</td>\n",
       "      <td>.</td>\n",
       "    </tr>\n",
       "  </tbody>\n",
       "</table>\n",
       "<p>10417 rows × 6 columns</p>\n",
       "</div>"
      ],
      "text/plain": [
       "      seqnames      start        end                  V4   V5 V6\n",
       "0         chr1    4785592    4785957      PA_ATAC_peak_1  114  .\n",
       "1         chr1    4807580    4808172      PA_ATAC_peak_2  106  .\n",
       "2         chr1    4857390    4857913      PA_ATAC_peak_3  596  .\n",
       "3         chr1    5019338    5019580      PA_ATAC_peak_4   80  .\n",
       "5         chr1    5070277    5070587      PA_ATAC_peak_6  206  .\n",
       "...        ...        ...        ...                 ...  ... ..\n",
       "26518     chrX  168672467  168672778  PA_ATAC_peak_26519  125  .\n",
       "26519     chrX  168673404  168673685  PA_ATAC_peak_26520  107  .\n",
       "26520     chrX  168673765  168674170  PA_ATAC_peak_26521  107  .\n",
       "26523     chrX  169112624  169112962  PA_ATAC_peak_26524   58  .\n",
       "26526     chrX  169320297  169320616  PA_ATAC_peak_26527  173  .\n",
       "\n",
       "[10417 rows x 6 columns]"
      ]
     },
     "execution_count": 10,
     "metadata": {},
     "output_type": "execute_result"
    }
   ],
   "source": [
    "bedfiles[1]"
   ]
  },
  {
   "cell_type": "code",
   "execution_count": null,
   "id": "cbe26324",
   "metadata": {},
   "outputs": [],
   "source": []
  }
 ],
 "metadata": {
  "kernelspec": {
   "display_name": "Python 3",
   "language": "python",
   "name": "python3"
  },
  "language_info": {
   "codemirror_mode": {
    "name": "ipython",
    "version": 3
   },
   "file_extension": ".py",
   "mimetype": "text/x-python",
   "name": "python",
   "nbconvert_exporter": "python",
   "pygments_lexer": "ipython3",
   "version": "3.8.8"
  }
 },
 "nbformat": 4,
 "nbformat_minor": 5
}
