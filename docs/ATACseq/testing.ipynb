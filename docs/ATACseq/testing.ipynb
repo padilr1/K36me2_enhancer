{
 "cells": [
  {
   "cell_type": "code",
   "execution_count": 5,
   "id": "17e60097",
   "metadata": {},
   "outputs": [],
   "source": [
    "import os\n",
    "import pandas as pd"
   ]
  },
  {
   "cell_type": "code",
   "execution_count": 2,
   "id": "8047c7fd",
   "metadata": {},
   "outputs": [
    {
     "data": {
      "text/plain": [
       "['SETD2KO_ATAC_peaks.bed',\n",
       " '.DS_Store',\n",
       " 'SETD2_ATAC.intron.bed',\n",
       " 'PA_ATAC.promoter.bed',\n",
       " 'K36M_ATAC.intron.bed',\n",
       " 'PA_ATAC.intron.bed',\n",
       " 'Untitled.ipynb',\n",
       " 'anno_reg.py',\n",
       " 'PA_ATAC.intergenic.bed',\n",
       " 'K36M_ATAC.intergenic.bed',\n",
       " 'SETD2_ATAC.promoter.bed',\n",
       " 'atacseq.sh',\n",
       " 'atac_seq_analysis.ipynb',\n",
       " 'NSD12DKO_ATAC.intergenic.bed',\n",
       " 'NSD12DKO_ATAC.intron.bed',\n",
       " 'SETD2KO_ATAC.csv',\n",
       " 'NSD12DKO_ATAC.csv',\n",
       " 'K36M_ATAC.promoter.bed',\n",
       " '.ipynb_checkpoints',\n",
       " 'PA_ATAC.csv',\n",
       " 'NSD12DKO_ATAC_peaks.bed',\n",
       " 'NSD12DKO_ATAC.promoter.bed',\n",
       " 'K36M_ATAC.csv',\n",
       " 'H33K36M_ATAC_peaks.bed',\n",
       " 'PA_ATAC_peaks.bed',\n",
       " 'SETD2_ATAC.intergenic.bed']"
      ]
     },
     "execution_count": 2,
     "metadata": {},
     "output_type": "execute_result"
    }
   ],
   "source": [
    "os.listdir()"
   ]
  },
  {
   "cell_type": "code",
   "execution_count": 64,
   "id": "31458e73",
   "metadata": {},
   "outputs": [],
   "source": [
    "filenames = ['NSD12DKO_ATAC.promoter.bed', 'K36M_ATAC.promoter.bed','SETD2_ATAC.promoter.bed','PA_ATAC.promoter.bed']\n",
    "# Open file3 in write mode\n",
    "with open('file3.bed', 'w') as outfile:\n",
    "  \n",
    "    # Iterate through list\n",
    "    for names in filenames:\n",
    "  \n",
    "        # Open each file in read mode\n",
    "        with open(names) as infile:\n",
    "  \n",
    "            # read the data from file1 and\n",
    "            # file2 and write it in file3\n",
    "            outfile.write(infile.read())\n",
    "  \n",
    "        # Add '\\n' to enter data of file2\n",
    "        # from next line\n",
    "        outfile.write(\"\\n\")"
   ]
  },
  {
   "cell_type": "code",
   "execution_count": 55,
   "id": "8a704b87",
   "metadata": {},
   "outputs": [],
   "source": [
    "def merge_bed(x,y):\n",
    "    filenames = x\n",
    "    with open(y, 'w') as outfile:\n",
    "    # Iterate through list\n",
    "        for names in filenames:\n",
    "        # Open each file in read mode\n",
    "            with open(names) as infile:\n",
    "            # read the data from file1 and\n",
    "            # file2 and write it in file3\n",
    "                outfile.write(infile.read())\n",
    "            # Add '\\n' to enter data of file2\n",
    "            # from next line\n",
    "            outfile.write(\"\\n\")"
   ]
  },
  {
   "cell_type": "code",
   "execution_count": 56,
   "id": "649e3847",
   "metadata": {},
   "outputs": [],
   "source": [
    "merge_bed(filenames,'example.bed')"
   ]
  },
  {
   "cell_type": "code",
   "execution_count": 52,
   "id": "57e017d9",
   "metadata": {},
   "outputs": [],
   "source": [
    "df=pd.read_table('file3.bed',header=None)"
   ]
  },
  {
   "cell_type": "code",
   "execution_count": 53,
   "id": "c701bafd",
   "metadata": {},
   "outputs": [
    {
     "data": {
      "text/html": [
       "<div>\n",
       "<style scoped>\n",
       "    .dataframe tbody tr th:only-of-type {\n",
       "        vertical-align: middle;\n",
       "    }\n",
       "\n",
       "    .dataframe tbody tr th {\n",
       "        vertical-align: top;\n",
       "    }\n",
       "\n",
       "    .dataframe thead th {\n",
       "        text-align: right;\n",
       "    }\n",
       "</style>\n",
       "<table border=\"1\" class=\"dataframe\">\n",
       "  <thead>\n",
       "    <tr style=\"text-align: right;\">\n",
       "      <th></th>\n",
       "      <th>0</th>\n",
       "      <th>1</th>\n",
       "      <th>2</th>\n",
       "      <th>3</th>\n",
       "      <th>4</th>\n",
       "      <th>5</th>\n",
       "    </tr>\n",
       "  </thead>\n",
       "  <tbody>\n",
       "    <tr>\n",
       "      <th>0</th>\n",
       "      <td>chr1</td>\n",
       "      <td>4785394</td>\n",
       "      <td>4785947</td>\n",
       "      <td>NSD12DKO_ATAC_peak_1</td>\n",
       "      <td>123</td>\n",
       "      <td>.</td>\n",
       "    </tr>\n",
       "    <tr>\n",
       "      <th>1</th>\n",
       "      <td>chr1</td>\n",
       "      <td>4807565</td>\n",
       "      <td>4808172</td>\n",
       "      <td>NSD12DKO_ATAC_peak_2</td>\n",
       "      <td>44</td>\n",
       "      <td>.</td>\n",
       "    </tr>\n",
       "    <tr>\n",
       "      <th>2</th>\n",
       "      <td>chr1</td>\n",
       "      <td>4857385</td>\n",
       "      <td>4857927</td>\n",
       "      <td>NSD12DKO_ATAC_peak_3</td>\n",
       "      <td>418</td>\n",
       "      <td>.</td>\n",
       "    </tr>\n",
       "    <tr>\n",
       "      <th>3</th>\n",
       "      <td>chr1</td>\n",
       "      <td>5070277</td>\n",
       "      <td>5070576</td>\n",
       "      <td>NSD12DKO_ATAC_peak_7</td>\n",
       "      <td>175</td>\n",
       "      <td>.</td>\n",
       "    </tr>\n",
       "    <tr>\n",
       "      <th>4</th>\n",
       "      <td>chr1</td>\n",
       "      <td>5082869</td>\n",
       "      <td>5083291</td>\n",
       "      <td>NSD12DKO_ATAC_peak_8</td>\n",
       "      <td>234</td>\n",
       "      <td>.</td>\n",
       "    </tr>\n",
       "    <tr>\n",
       "      <th>...</th>\n",
       "      <td>...</td>\n",
       "      <td>...</td>\n",
       "      <td>...</td>\n",
       "      <td>...</td>\n",
       "      <td>...</td>\n",
       "      <td>...</td>\n",
       "    </tr>\n",
       "    <tr>\n",
       "      <th>28872</th>\n",
       "      <td>chrX</td>\n",
       "      <td>168672457</td>\n",
       "      <td>168672761</td>\n",
       "      <td>SETD2KO_ATAC_peak_28726</td>\n",
       "      <td>123</td>\n",
       "      <td>.</td>\n",
       "    </tr>\n",
       "    <tr>\n",
       "      <th>28873</th>\n",
       "      <td>chrX</td>\n",
       "      <td>168673766</td>\n",
       "      <td>168674032</td>\n",
       "      <td>SETD2KO_ATAC_peak_28727</td>\n",
       "      <td>85</td>\n",
       "      <td>.</td>\n",
       "    </tr>\n",
       "    <tr>\n",
       "      <th>28874</th>\n",
       "      <td>chrX</td>\n",
       "      <td>168674288</td>\n",
       "      <td>168674496</td>\n",
       "      <td>SETD2KO_ATAC_peak_28728</td>\n",
       "      <td>57</td>\n",
       "      <td>.</td>\n",
       "    </tr>\n",
       "    <tr>\n",
       "      <th>28875</th>\n",
       "      <td>chrX</td>\n",
       "      <td>169112672</td>\n",
       "      <td>169112958</td>\n",
       "      <td>SETD2KO_ATAC_peak_28732</td>\n",
       "      <td>63</td>\n",
       "      <td>.</td>\n",
       "    </tr>\n",
       "    <tr>\n",
       "      <th>28876</th>\n",
       "      <td>chrX</td>\n",
       "      <td>169320266</td>\n",
       "      <td>169320653</td>\n",
       "      <td>SETD2KO_ATAC_peak_28734</td>\n",
       "      <td>261</td>\n",
       "      <td>.</td>\n",
       "    </tr>\n",
       "  </tbody>\n",
       "</table>\n",
       "<p>28877 rows × 6 columns</p>\n",
       "</div>"
      ],
      "text/plain": [
       "          0          1          2                        3    4  5\n",
       "0      chr1    4785394    4785947     NSD12DKO_ATAC_peak_1  123  .\n",
       "1      chr1    4807565    4808172     NSD12DKO_ATAC_peak_2   44  .\n",
       "2      chr1    4857385    4857927     NSD12DKO_ATAC_peak_3  418  .\n",
       "3      chr1    5070277    5070576     NSD12DKO_ATAC_peak_7  175  .\n",
       "4      chr1    5082869    5083291     NSD12DKO_ATAC_peak_8  234  .\n",
       "...     ...        ...        ...                      ...  ... ..\n",
       "28872  chrX  168672457  168672761  SETD2KO_ATAC_peak_28726  123  .\n",
       "28873  chrX  168673766  168674032  SETD2KO_ATAC_peak_28727   85  .\n",
       "28874  chrX  168674288  168674496  SETD2KO_ATAC_peak_28728   57  .\n",
       "28875  chrX  169112672  169112958  SETD2KO_ATAC_peak_28732   63  .\n",
       "28876  chrX  169320266  169320653  SETD2KO_ATAC_peak_28734  261  .\n",
       "\n",
       "[28877 rows x 6 columns]"
      ]
     },
     "execution_count": 53,
     "metadata": {},
     "output_type": "execute_result"
    }
   ],
   "source": [
    "df"
   ]
  },
  {
   "cell_type": "code",
   "execution_count": 27,
   "id": "8ee8d212",
   "metadata": {},
   "outputs": [],
   "source": [
    "df=['df1','df2','df3']"
   ]
  },
  {
   "cell_type": "code",
   "execution_count": null,
   "id": "ff589b15",
   "metadata": {},
   "outputs": [],
   "source": [
    "coins = [\"Bitcoin\", \"Ethereum\", \"Cardano\"]\n",
    "prices = [48000,2585,2]\n",
    "for i, coin in enumerate(coins):\n",
    "    price = prices[i]\n",
    "    print(f\"${price} for 1 {coin}\")"
   ]
  },
  {
   "cell_type": "code",
   "execution_count": 29,
   "id": "a3195fdf",
   "metadata": {},
   "outputs": [
    {
     "ename": "TypeError",
     "evalue": "list indices must be integers or slices, not str",
     "output_type": "error",
     "traceback": [
      "\u001b[0;31m---------------------------------------------------------------------------\u001b[0m",
      "\u001b[0;31mTypeError\u001b[0m                                 Traceback (most recent call last)",
      "\u001b[0;32m<ipython-input-29-16c1ea920a17>\u001b[0m in \u001b[0;36m<module>\u001b[0;34m\u001b[0m\n\u001b[1;32m      1\u001b[0m \u001b[0;32mfor\u001b[0m \u001b[0mj\u001b[0m\u001b[0;34m,\u001b[0m\u001b[0mi\u001b[0m \u001b[0;32min\u001b[0m \u001b[0mzip\u001b[0m\u001b[0;34m(\u001b[0m\u001b[0mdf\u001b[0m\u001b[0;34m,\u001b[0m \u001b[0mfilenames\u001b[0m\u001b[0;34m)\u001b[0m\u001b[0;34m:\u001b[0m\u001b[0;34m\u001b[0m\u001b[0;34m\u001b[0m\u001b[0m\n\u001b[0;32m----> 2\u001b[0;31m     \u001b[0mdf\u001b[0m\u001b[0;34m[\u001b[0m\u001b[0mj\u001b[0m\u001b[0;34m]\u001b[0m \u001b[0;34m=\u001b[0m \u001b[0mpd\u001b[0m\u001b[0;34m.\u001b[0m\u001b[0mread_table\u001b[0m\u001b[0;34m(\u001b[0m\u001b[0mfilenames\u001b[0m\u001b[0;34m[\u001b[0m\u001b[0mi\u001b[0m\u001b[0;34m]\u001b[0m\u001b[0;34m)\u001b[0m\u001b[0;34m\u001b[0m\u001b[0;34m\u001b[0m\u001b[0m\n\u001b[0m",
      "\u001b[0;31mTypeError\u001b[0m: list indices must be integers or slices, not str"
     ]
    }
   ],
   "source": [
    "for j,i in zip(df, filenames):\n",
    "    df[j] = pd.read_table(filenames[i])"
   ]
  },
  {
   "cell_type": "code",
   "execution_count": 47,
   "id": "db73bf06",
   "metadata": {},
   "outputs": [],
   "source": [
    "df1=pd.read_table(filenames[0],header=None)"
   ]
  },
  {
   "cell_type": "code",
   "execution_count": 48,
   "id": "d993ac9b",
   "metadata": {},
   "outputs": [
    {
     "data": {
      "text/html": [
       "<div>\n",
       "<style scoped>\n",
       "    .dataframe tbody tr th:only-of-type {\n",
       "        vertical-align: middle;\n",
       "    }\n",
       "\n",
       "    .dataframe tbody tr th {\n",
       "        vertical-align: top;\n",
       "    }\n",
       "\n",
       "    .dataframe thead th {\n",
       "        text-align: right;\n",
       "    }\n",
       "</style>\n",
       "<table border=\"1\" class=\"dataframe\">\n",
       "  <thead>\n",
       "    <tr style=\"text-align: right;\">\n",
       "      <th></th>\n",
       "      <th>0</th>\n",
       "      <th>1</th>\n",
       "      <th>2</th>\n",
       "      <th>3</th>\n",
       "      <th>4</th>\n",
       "      <th>5</th>\n",
       "    </tr>\n",
       "  </thead>\n",
       "  <tbody>\n",
       "    <tr>\n",
       "      <th>0</th>\n",
       "      <td>chr1</td>\n",
       "      <td>4785394</td>\n",
       "      <td>4785947</td>\n",
       "      <td>NSD12DKO_ATAC_peak_1</td>\n",
       "      <td>123</td>\n",
       "      <td>.</td>\n",
       "    </tr>\n",
       "    <tr>\n",
       "      <th>1</th>\n",
       "      <td>chr1</td>\n",
       "      <td>4807565</td>\n",
       "      <td>4808172</td>\n",
       "      <td>NSD12DKO_ATAC_peak_2</td>\n",
       "      <td>44</td>\n",
       "      <td>.</td>\n",
       "    </tr>\n",
       "    <tr>\n",
       "      <th>2</th>\n",
       "      <td>chr1</td>\n",
       "      <td>4857385</td>\n",
       "      <td>4857927</td>\n",
       "      <td>NSD12DKO_ATAC_peak_3</td>\n",
       "      <td>418</td>\n",
       "      <td>.</td>\n",
       "    </tr>\n",
       "    <tr>\n",
       "      <th>3</th>\n",
       "      <td>chr1</td>\n",
       "      <td>5070277</td>\n",
       "      <td>5070576</td>\n",
       "      <td>NSD12DKO_ATAC_peak_7</td>\n",
       "      <td>175</td>\n",
       "      <td>.</td>\n",
       "    </tr>\n",
       "    <tr>\n",
       "      <th>4</th>\n",
       "      <td>chr1</td>\n",
       "      <td>5082869</td>\n",
       "      <td>5083291</td>\n",
       "      <td>NSD12DKO_ATAC_peak_8</td>\n",
       "      <td>234</td>\n",
       "      <td>.</td>\n",
       "    </tr>\n",
       "    <tr>\n",
       "      <th>...</th>\n",
       "      <td>...</td>\n",
       "      <td>...</td>\n",
       "      <td>...</td>\n",
       "      <td>...</td>\n",
       "      <td>...</td>\n",
       "      <td>...</td>\n",
       "    </tr>\n",
       "    <tr>\n",
       "      <th>10093</th>\n",
       "      <td>chrX</td>\n",
       "      <td>168672471</td>\n",
       "      <td>168672772</td>\n",
       "      <td>NSD12DKO_ATAC_peak_26265</td>\n",
       "      <td>158</td>\n",
       "      <td>.</td>\n",
       "    </tr>\n",
       "    <tr>\n",
       "      <th>10094</th>\n",
       "      <td>chrX</td>\n",
       "      <td>168673385</td>\n",
       "      <td>168673584</td>\n",
       "      <td>NSD12DKO_ATAC_peak_26266</td>\n",
       "      <td>54</td>\n",
       "      <td>.</td>\n",
       "    </tr>\n",
       "    <tr>\n",
       "      <th>10095</th>\n",
       "      <td>chrX</td>\n",
       "      <td>168673833</td>\n",
       "      <td>168674405</td>\n",
       "      <td>NSD12DKO_ATAC_peak_26267</td>\n",
       "      <td>88</td>\n",
       "      <td>.</td>\n",
       "    </tr>\n",
       "    <tr>\n",
       "      <th>10096</th>\n",
       "      <td>chrX</td>\n",
       "      <td>169320129</td>\n",
       "      <td>169320755</td>\n",
       "      <td>NSD12DKO_ATAC_peak_26271</td>\n",
       "      <td>191</td>\n",
       "      <td>.</td>\n",
       "    </tr>\n",
       "    <tr>\n",
       "      <th>10097</th>\n",
       "      <td>chrX</td>\n",
       "      <td>169879422</td>\n",
       "      <td>169879627</td>\n",
       "      <td>NSD12DKO_ATAC_peak_26274</td>\n",
       "      <td>97</td>\n",
       "      <td>.</td>\n",
       "    </tr>\n",
       "  </tbody>\n",
       "</table>\n",
       "<p>10098 rows × 6 columns</p>\n",
       "</div>"
      ],
      "text/plain": [
       "          0          1          2                         3    4  5\n",
       "0      chr1    4785394    4785947      NSD12DKO_ATAC_peak_1  123  .\n",
       "1      chr1    4807565    4808172      NSD12DKO_ATAC_peak_2   44  .\n",
       "2      chr1    4857385    4857927      NSD12DKO_ATAC_peak_3  418  .\n",
       "3      chr1    5070277    5070576      NSD12DKO_ATAC_peak_7  175  .\n",
       "4      chr1    5082869    5083291      NSD12DKO_ATAC_peak_8  234  .\n",
       "...     ...        ...        ...                       ...  ... ..\n",
       "10093  chrX  168672471  168672772  NSD12DKO_ATAC_peak_26265  158  .\n",
       "10094  chrX  168673385  168673584  NSD12DKO_ATAC_peak_26266   54  .\n",
       "10095  chrX  168673833  168674405  NSD12DKO_ATAC_peak_26267   88  .\n",
       "10096  chrX  169320129  169320755  NSD12DKO_ATAC_peak_26271  191  .\n",
       "10097  chrX  169879422  169879627  NSD12DKO_ATAC_peak_26274   97  .\n",
       "\n",
       "[10098 rows x 6 columns]"
      ]
     },
     "execution_count": 48,
     "metadata": {},
     "output_type": "execute_result"
    }
   ],
   "source": [
    "df1"
   ]
  },
  {
   "cell_type": "code",
   "execution_count": 49,
   "id": "a1938a9a",
   "metadata": {},
   "outputs": [],
   "source": [
    "df2=pd.read_table(filenames[1],header=None)"
   ]
  },
  {
   "cell_type": "code",
   "execution_count": 50,
   "id": "9b9793eb",
   "metadata": {},
   "outputs": [],
   "source": [
    "df3=pd.read_table(filenames[2],header=None)"
   ]
  },
  {
   "cell_type": "code",
   "execution_count": 36,
   "id": "03dfa376",
   "metadata": {},
   "outputs": [],
   "source": [
    "listed=[df1,df2,df3]"
   ]
  },
  {
   "cell_type": "code",
   "execution_count": 39,
   "id": "5df70088",
   "metadata": {},
   "outputs": [
    {
     "ename": "SyntaxError",
     "evalue": "unexpected EOF while parsing (<ipython-input-39-a2b104179983>, line 2)",
     "output_type": "error",
     "traceback": [
      "\u001b[0;36m  File \u001b[0;32m\"<ipython-input-39-a2b104179983>\"\u001b[0;36m, line \u001b[0;32m2\u001b[0m\n\u001b[0;31m    print(len(listed[i])|\u001b[0m\n\u001b[0m                         ^\u001b[0m\n\u001b[0;31mSyntaxError\u001b[0m\u001b[0;31m:\u001b[0m unexpected EOF while parsing\n"
     ]
    }
   ],
   "source": [
    "for i in listed:\n",
    "   print(len(listed[i])"
   ]
  },
  {
   "cell_type": "code",
   "execution_count": 51,
   "id": "d56cee20",
   "metadata": {},
   "outputs": [
    {
     "data": {
      "text/plain": [
       "28877"
      ]
     },
     "execution_count": 51,
     "metadata": {},
     "output_type": "execute_result"
    }
   ],
   "source": [
    "len(df1) + len(df2) + len(df3)"
   ]
  },
  {
   "cell_type": "code",
   "execution_count": 41,
   "id": "cc1c360a",
   "metadata": {},
   "outputs": [
    {
     "data": {
      "text/plain": [
       "8085"
      ]
     },
     "execution_count": 41,
     "metadata": {},
     "output_type": "execute_result"
    }
   ],
   "source": [
    "len(df2)"
   ]
  },
  {
   "cell_type": "code",
   "execution_count": 42,
   "id": "9a034413",
   "metadata": {},
   "outputs": [
    {
     "data": {
      "text/plain": [
       "10692"
      ]
     },
     "execution_count": 42,
     "metadata": {},
     "output_type": "execute_result"
    }
   ],
   "source": [
    "len(df3)"
   ]
  },
  {
   "cell_type": "code",
   "execution_count": 57,
   "id": "639753c1",
   "metadata": {},
   "outputs": [
    {
     "data": {
      "text/plain": [
       "28877"
      ]
     },
     "execution_count": 57,
     "metadata": {},
     "output_type": "execute_result"
    }
   ],
   "source": [
    "10693+10098+8086"
   ]
  },
  {
   "cell_type": "code",
   "execution_count": 60,
   "id": "ad5e220e",
   "metadata": {},
   "outputs": [],
   "source": [
    "def union(x,y):\n",
    "    filenames=x\n",
    "    with open(y, 'w') as outfile:\n",
    "        for fname in filenames:\n",
    "            with open(fname) as infile:\n",
    "                for line in infile:\n",
    "                    outfile.write(line)"
   ]
  },
  {
   "cell_type": "code",
   "execution_count": 65,
   "id": "8bcb320a",
   "metadata": {},
   "outputs": [],
   "source": [
    "union(filenames,'example4.bed')"
   ]
  },
  {
   "cell_type": "code",
   "execution_count": 63,
   "id": "2f608dd9",
   "metadata": {},
   "outputs": [
    {
     "ename": "SyntaxError",
     "evalue": "invalid syntax (<ipython-input-63-81ed349c98bc>, line 1)",
     "output_type": "error",
     "traceback": [
      "\u001b[0;36m  File \u001b[0;32m\"<ipython-input-63-81ed349c98bc>\"\u001b[0;36m, line \u001b[0;32m1\u001b[0m\n\u001b[0;31m    as.list\u001b[0m\n\u001b[0m    ^\u001b[0m\n\u001b[0;31mSyntaxError\u001b[0m\u001b[0;31m:\u001b[0m invalid syntax\n"
     ]
    }
   ],
   "source": [
    "as.list"
   ]
  },
  {
   "cell_type": "code",
   "execution_count": 66,
   "id": "949996f3",
   "metadata": {},
   "outputs": [],
   "source": [
    "filenames = ['NSD12DKO_ATAC.promoter.bed', 'K36M_ATAC.promoter.bed','SETD2_ATAC.promoter.bed','PA_ATAC.promoter.bed']\n",
    "# Open file3 in write mode"
   ]
  },
  {
   "cell_type": "code",
   "execution_count": 68,
   "id": "a569a0d6",
   "metadata": {},
   "outputs": [],
   "source": [
    "union(filenames,'example-promoter.bed')"
   ]
  },
  {
   "cell_type": "code",
   "execution_count": 69,
   "id": "2fa24e4d",
   "metadata": {},
   "outputs": [
    {
     "data": {
      "text/plain": [
       "'NSD12DKO_ATAC.promoter.bed'"
      ]
     },
     "execution_count": 69,
     "metadata": {},
     "output_type": "execute_result"
    }
   ],
   "source": [
    "filenames[0]"
   ]
  },
  {
   "cell_type": "code",
   "execution_count": 70,
   "id": "81c82a1f",
   "metadata": {},
   "outputs": [
    {
     "data": {
      "text/plain": [
       "['NSD12DKO_ATAC.promoter.bed',\n",
       " 'K36M_ATAC.promoter.bed',\n",
       " 'SETD2_ATAC.promoter.bed',\n",
       " 'PA_ATAC.promoter.bed']"
      ]
     },
     "execution_count": 70,
     "metadata": {},
     "output_type": "execute_result"
    }
   ],
   "source": [
    "filenames[:]"
   ]
  },
  {
   "cell_type": "code",
   "execution_count": null,
   "id": "708b38ea",
   "metadata": {},
   "outputs": [],
   "source": []
  }
 ],
 "metadata": {
  "kernelspec": {
   "display_name": "Python 3",
   "language": "python",
   "name": "python3"
  },
  "language_info": {
   "codemirror_mode": {
    "name": "ipython",
    "version": 3
   },
   "file_extension": ".py",
   "mimetype": "text/x-python",
   "name": "python",
   "nbconvert_exporter": "python",
   "pygments_lexer": "ipython3",
   "version": "3.8.8"
  }
 },
 "nbformat": 4,
 "nbformat_minor": 5
}
